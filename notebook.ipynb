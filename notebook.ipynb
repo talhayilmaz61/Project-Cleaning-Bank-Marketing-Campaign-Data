{
 "cells": [
  {
   "cell_type": "code",
   "execution_count": 65,
   "id": "273d3770-7ce3-4af0-803a-367517b550b0",
   "metadata": {
    "executionCancelledAt": null,
    "executionTime": 529,
    "lastExecutedAt": 1730905128702,
    "lastExecutedByKernel": "95021d74-c673-4ac2-93c5-3084896386af",
    "lastScheduledRunId": null,
    "lastSuccessfullyExecutedCode": "import pandas as pd\nimport numpy as np\n\ndf = pd.read_csv(\"bank_marketing.csv\")\n\nfor col in [\"credit_default\", \"mortgage\", \"previous_outcome\", \"campaign_outcome\"]:\n    print(col)\n    print(\"--------------\")\n    print(df[col].value_counts())\n\nclient = df[[\"client_id\",\"age\",\"job\",\"marital\",\"education\",\"credit_default\",\"mortgage\"]]\neconomics = df[[\"client_id\",\"cons_price_idx\",\"euribor_three_months\"]]\ncampaign = df[[\"client_id\",\"number_contacts\",\"contact_duration\",\"previous_campaign_contacts\",\"previous_outcome\",\"campaign_outcome\",\"month\",\"day\"]]\n\ncampaign[\"year\"] = 2022\ncampaign[\"month\"] = pd.to_datetime(campaign[\"month\"], format='%b').dt.month\ncampaign[\"last_contact_date\"] = pd.to_datetime(campaign[[\"year\",\"month\",\"day\"]])\ncampaign = campaign.drop(columns=[\"year\", \"month\", \"day\"])\n\nclient[\"job\"] = client[\"job\"].str.replace(\".\", \"_\")\nclient[\"education\"] = client[\"education\"].str.replace(\".\", \"_\").replace(\"unknown\", np.NAN)\nclient[\"credit_default\"] = client[\"credit_default\"].replace({\"yes\": 1, \"unknown\": 0, \"no\": 0}).astype(\"boolean\")\nclient[\"mortgage\"] = client[\"mortgage\"].replace({\"yes\": 1, \"unknown\": 0, \"no\": 0}).astype(\"boolean\")\n\ncampaign[\"previous_outcome\"] = campaign[\"previous_outcome\"].replace({\"success\": 1, \"failure\": 0, \"nonexistent\": 0}).astype(\"boolean\")\ncampaign[\"campaign_outcome\"] = campaign[\"campaign_outcome\"].replace({\"yes\": 1, \"no\": 0}).astype(\"boolean\")\n\nclient.to_csv('client.csv', index=False)\ncampaign.to_csv('campaign.csv', index=False)\neconomics.to_csv('economics.csv', index=False)",
    "outputsMetadata": {
     "0": {
      "height": 500,
      "type": "stream"
     }
    }
   },
   "outputs": [
    {
     "name": "stdout",
     "output_type": "stream",
     "text": [
      "credit_default\n",
      "--------------\n",
      "no         32588\n",
      "unknown     8597\n",
      "yes            3\n",
      "Name: credit_default, dtype: int64\n",
      "mortgage\n",
      "--------------\n",
      "yes        21576\n",
      "no         18622\n",
      "unknown      990\n",
      "Name: mortgage, dtype: int64\n",
      "previous_outcome\n",
      "--------------\n",
      "nonexistent    35563\n",
      "failure         4252\n",
      "success         1373\n",
      "Name: previous_outcome, dtype: int64\n",
      "campaign_outcome\n",
      "--------------\n",
      "no     36548\n",
      "yes     4640\n",
      "Name: campaign_outcome, dtype: int64\n"
     ]
    }
   ],
   "source": [
    "import pandas as pd\n",
    "import numpy as np\n",
    "\n",
    "df = pd.read_csv(\"bank_marketing.csv\")\n",
    "\n",
    "for col in [\"credit_default\", \"mortgage\", \"previous_outcome\", \"campaign_outcome\"]:\n",
    "    print(col)\n",
    "    print(\"--------------\")\n",
    "    print(df[col].value_counts())\n",
    "\n",
    "client = df[[\"client_id\",\"age\",\"job\",\"marital\",\"education\",\"credit_default\",\"mortgage\"]]\n",
    "economics = df[[\"client_id\",\"cons_price_idx\",\"euribor_three_months\"]]\n",
    "campaign = df[[\"client_id\",\"number_contacts\",\"contact_duration\",\"previous_campaign_contacts\",\"previous_outcome\",\"campaign_outcome\",\"month\",\"day\"]]\n",
    "\n",
    "campaign[\"year\"] = 2022\n",
    "campaign[\"month\"] = pd.to_datetime(campaign[\"month\"], format='%b').dt.month\n",
    "campaign[\"last_contact_date\"] = pd.to_datetime(campaign[[\"year\",\"month\",\"day\"]])\n",
    "campaign = campaign.drop(columns=[\"year\", \"month\", \"day\"])\n",
    "\n",
    "client[\"job\"] = client[\"job\"].str.replace(\".\", \"_\")\n",
    "client[\"education\"] = client[\"education\"].str.replace(\".\", \"_\").replace(\"unknown\", np.NAN)\n",
    "client[\"credit_default\"] = client[\"credit_default\"].replace({\"yes\": 1, \"unknown\": 0, \"no\": 0}).astype(\"boolean\")\n",
    "client[\"mortgage\"] = client[\"mortgage\"].replace({\"yes\": 1, \"unknown\": 0, \"no\": 0}).astype(\"boolean\")\n",
    "\n",
    "campaign[\"previous_outcome\"] = campaign[\"previous_outcome\"].replace({\"success\": 1, \"failure\": 0, \"nonexistent\": 0}).astype(\"boolean\")\n",
    "campaign[\"campaign_outcome\"] = campaign[\"campaign_outcome\"].replace({\"yes\": 1, \"no\": 0}).astype(\"boolean\")\n",
    "\n",
    "client.to_csv('client.csv', index=False)\n",
    "campaign.to_csv('campaign.csv', index=False)\n",
    "economics.to_csv('economics.csv', index=False)"
   ]
  }
 ],
 "metadata": {
  "editor": "DataCamp Workspace",
  "kernelspec": {
   "display_name": "Python 3 (ipykernel)",
   "language": "python",
   "name": "python3"
  },
  "language_info": {
   "codemirror_mode": {
    "name": "ipython",
    "version": 3
   },
   "file_extension": ".py",
   "mimetype": "text/x-python",
   "name": "python",
   "nbconvert_exporter": "python",
   "pygments_lexer": "ipython3",
   "version": "3.8.10"
  }
 },
 "nbformat": 4,
 "nbformat_minor": 5
}
